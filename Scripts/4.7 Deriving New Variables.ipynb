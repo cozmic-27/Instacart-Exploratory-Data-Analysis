{
 "cells": [
  {
   "cell_type": "markdown",
   "id": "d1397b24-ea63-4481-b1d0-fdabf066c666",
   "metadata": {},
   "source": [
    "# Import Libraries"
   ]
  },
  {
   "cell_type": "code",
   "execution_count": 4,
   "id": "68fbdb9d-e916-4f40-a1a1-fa3098154647",
   "metadata": {},
   "outputs": [],
   "source": [
    "import pandas as pd\n",
    "import numpy as np\n",
    "import os"
   ]
  },
  {
   "cell_type": "markdown",
   "id": "e0d8efb1-8051-408a-816f-13a2f7c0d735",
   "metadata": {},
   "source": [
    "# Import Data"
   ]
  },
  {
   "cell_type": "code",
   "execution_count": 6,
   "id": "38df559a-612f-421c-ac47-e70a61dbe36d",
   "metadata": {},
   "outputs": [],
   "source": [
    "path = r\"C:\\Users\\Zachu\\Downloads\\08-25-2024_Insta_Cart_Basket_Analysis\"\n",
    "ords_prods_merge = pd.read_pickle(os.path.join(path, 'Data', 'Prepared Data', 'orders_products_merged.pkl'))"
   ]
  },
  {
   "cell_type": "code",
   "execution_count": 7,
   "id": "14a2a97b-5128-4cff-97ce-71ded072f55d",
   "metadata": {},
   "outputs": [
    {
     "data": {
      "text/plain": [
       "(1000000, 14)"
      ]
     },
     "execution_count": 7,
     "metadata": {},
     "output_type": "execute_result"
    }
   ],
   "source": [
    "# Create a subset of 1 million\n",
    "df = ords_prods_merge[:1000000]\n",
    "df.shape"
   ]
  },
  {
   "cell_type": "markdown",
   "id": "a9bb983d-7131-4867-8ee2-9be70006b14c",
   "metadata": {},
   "source": [
    "## Create function and column to classify prices"
   ]
  },
  {
   "cell_type": "code",
   "execution_count": 9,
   "id": "bee491c9-eb52-4114-aa7a-f78e832cf7ff",
   "metadata": {},
   "outputs": [],
   "source": [
    "# User defined fucntion\n",
    "\n",
    "def price_label(df):\n",
    "\n",
    " if df['prices'] <= 5:\n",
    "    return \"low-range product\"\n",
    " elif (df['prices'] > 5) & (df['prices'] <= 15):\n",
    "    return \"mid-range product\"\n",
    " elif df['prices'] > 15:\n",
    "    return \"high_range product\"\n",
    " else: return \"not enough data\""
   ]
  },
  {
   "cell_type": "code",
   "execution_count": 10,
   "id": "cb38c9cf-2517-48f7-97d8-916a5a76a03d",
   "metadata": {},
   "outputs": [
    {
     "name": "stderr",
     "output_type": "stream",
     "text": [
      "C:\\Users\\Zachu\\AppData\\Local\\Temp\\ipykernel_3092\\3046734123.py:1: SettingWithCopyWarning: \n",
      "A value is trying to be set on a copy of a slice from a DataFrame.\n",
      "Try using .loc[row_indexer,col_indexer] = value instead\n",
      "\n",
      "See the caveats in the documentation: https://pandas.pydata.org/pandas-docs/stable/user_guide/indexing.html#returning-a-view-versus-a-copy\n",
      "  df['price_range']= df.apply(price_label, axis=1)\n"
     ]
    }
   ],
   "source": [
    "df['price_range']= df.apply(price_label, axis=1)"
   ]
  },
  {
   "cell_type": "code",
   "execution_count": 11,
   "id": "71c41528-b0f2-4632-abb2-e21f35e495c1",
   "metadata": {},
   "outputs": [
    {
     "data": {
      "text/plain": [
       "price_range\n",
       "mid-range product     652638\n",
       "low-range product     338018\n",
       "high_range product      9344\n",
       "Name: count, dtype: int64"
      ]
     },
     "execution_count": 11,
     "metadata": {},
     "output_type": "execute_result"
    }
   ],
   "source": [
    "df['price_range'].value_counts(dropna = False)"
   ]
  },
  {
   "cell_type": "code",
   "execution_count": 12,
   "id": "e12e5258-d6fb-4e4c-9187-55fc6e8bcf28",
   "metadata": {},
   "outputs": [],
   "source": [
    "# Apply the fucntion and store it in 'price_range' column\n",
    "#df['price_range']= df.apply(price_label, axis=1)"
   ]
  },
  {
   "cell_type": "code",
   "execution_count": 13,
   "id": "b1adf8f2-2a21-4675-b0dc-6d4faf0948a2",
   "metadata": {},
   "outputs": [],
   "source": [
    "#df['price_range'].value_counts(dropna = False)"
   ]
  },
  {
   "cell_type": "code",
   "execution_count": 14,
   "id": "9300be29-61d8-4d72-8b75-d47ed007d72a",
   "metadata": {},
   "outputs": [
    {
     "data": {
      "text/plain": [
       "24.5"
      ]
     },
     "execution_count": 14,
     "metadata": {},
     "output_type": "execute_result"
    }
   ],
   "source": [
    "df['prices'].max()"
   ]
  },
  {
   "cell_type": "code",
   "execution_count": 15,
   "id": "302d95ab-2b69-4368-9d4a-f977a8131ddc",
   "metadata": {},
   "outputs": [],
   "source": [
    "# Using loc() funtion"
   ]
  },
  {
   "cell_type": "code",
   "execution_count": 16,
   "id": "46e98726-3687-4373-aa3e-30b2b1b11782",
   "metadata": {},
   "outputs": [],
   "source": [
    "#df.loc[df['prices'] > 15, 'price_range_loc'] = 'High-range product'"
   ]
  },
  {
   "cell_type": "code",
   "execution_count": 17,
   "id": "5e8bf425-4ff9-49ef-8081-811795c72752",
   "metadata": {},
   "outputs": [],
   "source": [
    "#df.loc[(df['prices'] <= 15) & (df['prices'] > 5), 'price_range_loc'] = 'Mid-range product' "
   ]
  },
  {
   "cell_type": "code",
   "execution_count": 18,
   "id": "39ae6228-aeef-4cb3-ba61-4dfb8c747425",
   "metadata": {},
   "outputs": [],
   "source": [
    "#df.loc[df['prices'] <= 5, 'price_range_loc'] = 'Low-range product'"
   ]
  },
  {
   "cell_type": "code",
   "execution_count": 19,
   "id": "129550a4-9367-4aed-a932-e016fe9ce7a0",
   "metadata": {},
   "outputs": [],
   "source": [
    "#df['price_range_loc'].value_counts(dropna = False)"
   ]
  },
  {
   "cell_type": "markdown",
   "id": "1f82b134-d17e-42d8-8254-51385f00d1a0",
   "metadata": {},
   "source": [
    "## Create function and column to classify busy days"
   ]
  },
  {
   "cell_type": "code",
   "execution_count": 21,
   "id": "486aabb3-ca95-461f-8166-770b6c737dfc",
   "metadata": {},
   "outputs": [
    {
     "data": {
      "text/plain": [
       "order_dow\n",
       "0    6204182\n",
       "1    5660230\n",
       "6    4496490\n",
       "2    4213830\n",
       "5    4205791\n",
       "3    3840534\n",
       "4    3783802\n",
       "Name: count, dtype: int64"
      ]
     },
     "execution_count": 21,
     "metadata": {},
     "output_type": "execute_result"
    }
   ],
   "source": [
    "# Display value counts for each day of the week\n",
    "ords_prods_merge['order_dow'].value_counts(dropna = False)"
   ]
  },
  {
   "cell_type": "code",
   "execution_count": 22,
   "id": "010b2ce0-077b-4027-9ed9-b5ff53149f15",
   "metadata": {},
   "outputs": [],
   "source": [
    "# Create a list that stores string values based on classifications\n",
    "result = []\n",
    "for value in ords_prods_merge[\"order_dow\"]:\n",
    "    if value == 0:\n",
    "        result.append ('Busiest day')\n",
    "    elif value == 4:\n",
    "        result.append('Least busy')\n",
    "    else:\n",
    "        result.append('Regularly busy')"
   ]
  },
  {
   "cell_type": "code",
   "execution_count": 23,
   "id": "07163cad-c525-4bd1-b536-4daee48c753e",
   "metadata": {},
   "outputs": [],
   "source": [
    "# Apply list to a new column in our dataset\n",
    "ords_prods_merge['busiest_day'] = result"
   ]
  },
  {
   "cell_type": "code",
   "execution_count": 24,
   "id": "d6ce05e9-8d6c-4ea7-9975-28e41557d97e",
   "metadata": {},
   "outputs": [
    {
     "data": {
      "text/plain": [
       "busiest_day\n",
       "Regularly busy    22416875\n",
       "Busiest day        6204182\n",
       "Least busy         3783802\n",
       "Name: count, dtype: int64"
      ]
     },
     "execution_count": 24,
     "metadata": {},
     "output_type": "execute_result"
    }
   ],
   "source": [
    "# Display value counts for column\n",
    "ords_prods_merge['busiest_day'].value_counts(dropna = False)"
   ]
  },
  {
   "cell_type": "markdown",
   "id": "388bc55f-e37e-45ff-9e16-a4842f5bdebb",
   "metadata": {},
   "source": [
    "# 4.7 Tasks"
   ]
  },
  {
   "cell_type": "markdown",
   "id": "2627f2eb-df66-4f4c-afa4-de9df19b8724",
   "metadata": {},
   "source": [
    "## 2. Classify groups of multiple days based on how busy they are"
   ]
  },
  {
   "cell_type": "code",
   "execution_count": 27,
   "id": "a39d19bf-4eed-4fa0-9b0c-8019a0ae0a15",
   "metadata": {},
   "outputs": [],
   "source": [
    "# Identify top 2 busiest and bottom 2 least busiest days\n",
    "result_2 = []\n",
    "\n",
    "for value in ords_prods_merge[\"order_dow\"]:\n",
    "  if value == 0 or value == 1:\n",
    "    result_2.append(\"Busiest days\")\n",
    "  elif value == 4 or value == 3:\n",
    "    result_2.append(\"Slowest days\")\n",
    "  else:\n",
    "    result_2.append(\"Regularly busy\")\n"
   ]
  },
  {
   "cell_type": "code",
   "execution_count": 28,
   "id": "d67aebf5-d37c-46c6-8ce0-b6a067bde9b8",
   "metadata": {},
   "outputs": [],
   "source": [
    "# Create 'busiest days' column to view results \n",
    "ords_prods_merge['busiest_days'] = result_2"
   ]
  },
  {
   "cell_type": "code",
   "execution_count": 29,
   "id": "992753db-9b2d-42e9-b980-76c7c3329cc5",
   "metadata": {},
   "outputs": [
    {
     "data": {
      "text/plain": [
       "busiest_days\n",
       "Regularly busy    12916111\n",
       "Busiest days      11864412\n",
       "Slowest days       7624336\n",
       "Name: count, dtype: int64"
      ]
     },
     "execution_count": 29,
     "metadata": {},
     "output_type": "execute_result"
    }
   ],
   "source": [
    "# Check value counts \n",
    "ords_prods_merge['busiest_days'].value_counts(dropna = False)"
   ]
  },
  {
   "cell_type": "code",
   "execution_count": 30,
   "id": "15ab8622-12eb-48f6-8946-3ebf98759814",
   "metadata": {},
   "outputs": [
    {
     "data": {
      "text/html": [
       "<div>\n",
       "<style scoped>\n",
       "    .dataframe tbody tr th:only-of-type {\n",
       "        vertical-align: middle;\n",
       "    }\n",
       "\n",
       "    .dataframe tbody tr th {\n",
       "        vertical-align: top;\n",
       "    }\n",
       "\n",
       "    .dataframe thead th {\n",
       "        text-align: right;\n",
       "    }\n",
       "</style>\n",
       "<table border=\"1\" class=\"dataframe\">\n",
       "  <thead>\n",
       "    <tr style=\"text-align: right;\">\n",
       "      <th></th>\n",
       "      <th>product_id</th>\n",
       "      <th>product_name</th>\n",
       "      <th>aisle_id</th>\n",
       "      <th>department_id</th>\n",
       "      <th>prices</th>\n",
       "      <th>order_id</th>\n",
       "      <th>user_id</th>\n",
       "      <th>order_number</th>\n",
       "      <th>order_dow</th>\n",
       "      <th>order_hour_of_day</th>\n",
       "      <th>days_since_prior_order</th>\n",
       "      <th>add_to_cart_order</th>\n",
       "      <th>reordered</th>\n",
       "      <th>_merge</th>\n",
       "      <th>busiest_day</th>\n",
       "      <th>busiest_days</th>\n",
       "    </tr>\n",
       "  </thead>\n",
       "  <tbody>\n",
       "    <tr>\n",
       "      <th>0</th>\n",
       "      <td>1</td>\n",
       "      <td>Chocolate Sandwich Cookies</td>\n",
       "      <td>61</td>\n",
       "      <td>19</td>\n",
       "      <td>5.8</td>\n",
       "      <td>3139998</td>\n",
       "      <td>138</td>\n",
       "      <td>28</td>\n",
       "      <td>6</td>\n",
       "      <td>11</td>\n",
       "      <td>3.0</td>\n",
       "      <td>5</td>\n",
       "      <td>0</td>\n",
       "      <td>both</td>\n",
       "      <td>Regularly busy</td>\n",
       "      <td>Regularly busy</td>\n",
       "    </tr>\n",
       "    <tr>\n",
       "      <th>1</th>\n",
       "      <td>1</td>\n",
       "      <td>Chocolate Sandwich Cookies</td>\n",
       "      <td>61</td>\n",
       "      <td>19</td>\n",
       "      <td>5.8</td>\n",
       "      <td>1977647</td>\n",
       "      <td>138</td>\n",
       "      <td>30</td>\n",
       "      <td>6</td>\n",
       "      <td>17</td>\n",
       "      <td>20.0</td>\n",
       "      <td>1</td>\n",
       "      <td>1</td>\n",
       "      <td>both</td>\n",
       "      <td>Regularly busy</td>\n",
       "      <td>Regularly busy</td>\n",
       "    </tr>\n",
       "    <tr>\n",
       "      <th>2</th>\n",
       "      <td>1</td>\n",
       "      <td>Chocolate Sandwich Cookies</td>\n",
       "      <td>61</td>\n",
       "      <td>19</td>\n",
       "      <td>5.8</td>\n",
       "      <td>389851</td>\n",
       "      <td>709</td>\n",
       "      <td>2</td>\n",
       "      <td>0</td>\n",
       "      <td>21</td>\n",
       "      <td>6.0</td>\n",
       "      <td>20</td>\n",
       "      <td>0</td>\n",
       "      <td>both</td>\n",
       "      <td>Busiest day</td>\n",
       "      <td>Busiest days</td>\n",
       "    </tr>\n",
       "    <tr>\n",
       "      <th>3</th>\n",
       "      <td>1</td>\n",
       "      <td>Chocolate Sandwich Cookies</td>\n",
       "      <td>61</td>\n",
       "      <td>19</td>\n",
       "      <td>5.8</td>\n",
       "      <td>652770</td>\n",
       "      <td>764</td>\n",
       "      <td>1</td>\n",
       "      <td>3</td>\n",
       "      <td>13</td>\n",
       "      <td>NaN</td>\n",
       "      <td>10</td>\n",
       "      <td>0</td>\n",
       "      <td>both</td>\n",
       "      <td>Regularly busy</td>\n",
       "      <td>Slowest days</td>\n",
       "    </tr>\n",
       "    <tr>\n",
       "      <th>4</th>\n",
       "      <td>1</td>\n",
       "      <td>Chocolate Sandwich Cookies</td>\n",
       "      <td>61</td>\n",
       "      <td>19</td>\n",
       "      <td>5.8</td>\n",
       "      <td>1813452</td>\n",
       "      <td>764</td>\n",
       "      <td>3</td>\n",
       "      <td>4</td>\n",
       "      <td>17</td>\n",
       "      <td>9.0</td>\n",
       "      <td>11</td>\n",
       "      <td>1</td>\n",
       "      <td>both</td>\n",
       "      <td>Least busy</td>\n",
       "      <td>Slowest days</td>\n",
       "    </tr>\n",
       "  </tbody>\n",
       "</table>\n",
       "</div>"
      ],
      "text/plain": [
       "   product_id                product_name  aisle_id  department_id  prices  \\\n",
       "0           1  Chocolate Sandwich Cookies        61             19     5.8   \n",
       "1           1  Chocolate Sandwich Cookies        61             19     5.8   \n",
       "2           1  Chocolate Sandwich Cookies        61             19     5.8   \n",
       "3           1  Chocolate Sandwich Cookies        61             19     5.8   \n",
       "4           1  Chocolate Sandwich Cookies        61             19     5.8   \n",
       "\n",
       "   order_id  user_id  order_number  order_dow  order_hour_of_day  \\\n",
       "0   3139998      138            28          6                 11   \n",
       "1   1977647      138            30          6                 17   \n",
       "2    389851      709             2          0                 21   \n",
       "3    652770      764             1          3                 13   \n",
       "4   1813452      764             3          4                 17   \n",
       "\n",
       "   days_since_prior_order  add_to_cart_order  reordered _merge  \\\n",
       "0                     3.0                  5          0   both   \n",
       "1                    20.0                  1          1   both   \n",
       "2                     6.0                 20          0   both   \n",
       "3                     NaN                 10          0   both   \n",
       "4                     9.0                 11          1   both   \n",
       "\n",
       "      busiest_day    busiest_days  \n",
       "0  Regularly busy  Regularly busy  \n",
       "1  Regularly busy  Regularly busy  \n",
       "2     Busiest day    Busiest days  \n",
       "3  Regularly busy    Slowest days  \n",
       "4      Least busy    Slowest days  "
      ]
     },
     "execution_count": 30,
     "metadata": {},
     "output_type": "execute_result"
    }
   ],
   "source": [
    "# Check output for dataset\n",
    "ords_prods_merge.head()"
   ]
  },
  {
   "cell_type": "markdown",
   "id": "c19deddf-140a-4f0a-a4a0-fb73765c6147",
   "metadata": {},
   "source": [
    "## 4. Classify time periods based on three indicators: Most Orders, Average Orders, and Fewest Orders"
   ]
  },
  {
   "cell_type": "code",
   "execution_count": 32,
   "id": "19764b81-eb22-4295-b143-75f9a0851aa5",
   "metadata": {},
   "outputs": [
    {
     "data": {
      "text/plain": [
       "order_hour_of_day\n",
       "10    2761760\n",
       "11    2736140\n",
       "14    2689136\n",
       "15    2662144\n",
       "13    2660954\n",
       "12    2618532\n",
       "16    2535202\n",
       "9     2454203\n",
       "17    2087654\n",
       "8     1718118\n",
       "18    1636502\n",
       "19    1258305\n",
       "20     976156\n",
       "7      891054\n",
       "21     795637\n",
       "22     634225\n",
       "23     402316\n",
       "6      290493\n",
       "0      218769\n",
       "1      115700\n",
       "5       87961\n",
       "2       69375\n",
       "4       53242\n",
       "3       51281\n",
       "Name: count, dtype: int64"
      ]
     },
     "execution_count": 32,
     "metadata": {},
     "output_type": "execute_result"
    }
   ],
   "source": [
    "# Display value counts for each hour \n",
    "hours_sorted = ords_prods_merge['order_hour_of_day'].value_counts(dropna=False)\n",
    "hours_sorted"
   ]
  },
  {
   "cell_type": "code",
   "execution_count": 33,
   "id": "689e9fb5-1d3b-4964-8adb-982a9074a6b6",
   "metadata": {},
   "outputs": [],
   "source": [
    "busiest_hour = []\n",
    "\n",
    "for row in ords_prods_merge['order_hour_of_day']:\n",
    "  if row in hours_sorted[:8]:\n",
    "   busiest_hour.append(\"Most orders\")\n",
    "  elif row in hours_sorted[8:16]:\n",
    "   busiest_hour.append(\"Average orders\")\n",
    "  else:\n",
    "   busiest_hour.append(\"Fewest orders\")"
   ]
  },
  {
   "cell_type": "code",
   "execution_count": 34,
   "id": "dc81726d-763d-449b-bfba-10f7a9623ef1",
   "metadata": {},
   "outputs": [],
   "source": [
    "ords_prods_merge['hours_ranked'] = busiest_hour"
   ]
  },
  {
   "cell_type": "code",
   "execution_count": 35,
   "id": "0b55ce46-d2c4-4bd3-9ae7-981b3fe3d777",
   "metadata": {},
   "outputs": [
    {
     "data": {
      "text/plain": [
       "hours_ranked\n",
       "Most orders       21118071\n",
       "Average orders     9997651\n",
       "Fewest orders      1289137\n",
       "Name: count, dtype: int64"
      ]
     },
     "execution_count": 35,
     "metadata": {},
     "output_type": "execute_result"
    }
   ],
   "source": [
    "ords_prods_merge['hours_ranked'].value_counts(dropna=False)"
   ]
  },
  {
   "cell_type": "code",
   "execution_count": 62,
   "id": "803d6abb-6d78-44b9-bac4-568d5e1f8023",
   "metadata": {},
   "outputs": [],
   "source": [
    "ords_prods_merge.to_pickle(os.path.join(path, 'Data', 'Prepared Data', 'orders_products_merged_derived.pkl'))"
   ]
  }
 ],
 "metadata": {
  "kernelspec": {
   "display_name": "Python 3 (ipykernel)",
   "language": "python",
   "name": "python3"
  },
  "language_info": {
   "codemirror_mode": {
    "name": "ipython",
    "version": 3
   },
   "file_extension": ".py",
   "mimetype": "text/x-python",
   "name": "python",
   "nbconvert_exporter": "python",
   "pygments_lexer": "ipython3",
   "version": "3.12.4"
  }
 },
 "nbformat": 4,
 "nbformat_minor": 5
}
