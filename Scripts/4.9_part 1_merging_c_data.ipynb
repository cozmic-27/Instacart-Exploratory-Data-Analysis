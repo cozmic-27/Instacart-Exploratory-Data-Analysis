{
 "cells": [
  {
   "cell_type": "markdown",
   "id": "0490353f-5b28-4acd-8793-3be1eb306823",
   "metadata": {},
   "source": [
    "## Import Libraries"
   ]
  },
  {
   "cell_type": "code",
   "execution_count": 27,
   "id": "3d48f518-4c7b-41be-be9b-d3e3a53a1359",
   "metadata": {},
   "outputs": [],
   "source": [
    "import pandas as pd\n",
    "import numpy as np\n",
    "import os"
   ]
  },
  {
   "cell_type": "markdown",
   "id": "e55a4449-4000-44ee-804a-fa908e53eb6c",
   "metadata": {},
   "source": [
    "## Import Data"
   ]
  },
  {
   "cell_type": "code",
   "execution_count": 29,
   "id": "ce708877-ea3b-449b-8279-ee20a0abc430",
   "metadata": {},
   "outputs": [],
   "source": [
    "path = r\"C:\\Users\\Zachu\\Downloads\\08-25-2024_Insta_Cart_Basket_Analysis\"\n",
    "c_data = pd.read_csv(os.path.join(path, 'Data', 'Original Data', 'customers', 'customers.csv'))"
   ]
  },
  {
   "cell_type": "code",
   "execution_count": 31,
   "id": "c05e25ab-1d1f-4532-b746-64de803acd52",
   "metadata": {},
   "outputs": [
    {
     "data": {
      "text/html": [
       "<div>\n",
       "<style scoped>\n",
       "    .dataframe tbody tr th:only-of-type {\n",
       "        vertical-align: middle;\n",
       "    }\n",
       "\n",
       "    .dataframe tbody tr th {\n",
       "        vertical-align: top;\n",
       "    }\n",
       "\n",
       "    .dataframe thead th {\n",
       "        text-align: right;\n",
       "    }\n",
       "</style>\n",
       "<table border=\"1\" class=\"dataframe\">\n",
       "  <thead>\n",
       "    <tr style=\"text-align: right;\">\n",
       "      <th></th>\n",
       "      <th>user_id</th>\n",
       "      <th>First Name</th>\n",
       "      <th>Surnam</th>\n",
       "      <th>Gender</th>\n",
       "      <th>STATE</th>\n",
       "      <th>Age</th>\n",
       "      <th>date_joined</th>\n",
       "      <th>n_dependants</th>\n",
       "      <th>fam_status</th>\n",
       "      <th>income</th>\n",
       "    </tr>\n",
       "  </thead>\n",
       "  <tbody>\n",
       "    <tr>\n",
       "      <th>0</th>\n",
       "      <td>26711</td>\n",
       "      <td>Deborah</td>\n",
       "      <td>Esquivel</td>\n",
       "      <td>Female</td>\n",
       "      <td>Missouri</td>\n",
       "      <td>48</td>\n",
       "      <td>1/1/2017</td>\n",
       "      <td>3</td>\n",
       "      <td>married</td>\n",
       "      <td>165665</td>\n",
       "    </tr>\n",
       "    <tr>\n",
       "      <th>1</th>\n",
       "      <td>33890</td>\n",
       "      <td>Patricia</td>\n",
       "      <td>Hart</td>\n",
       "      <td>Female</td>\n",
       "      <td>New Mexico</td>\n",
       "      <td>36</td>\n",
       "      <td>1/1/2017</td>\n",
       "      <td>0</td>\n",
       "      <td>single</td>\n",
       "      <td>59285</td>\n",
       "    </tr>\n",
       "    <tr>\n",
       "      <th>2</th>\n",
       "      <td>65803</td>\n",
       "      <td>Kenneth</td>\n",
       "      <td>Farley</td>\n",
       "      <td>Male</td>\n",
       "      <td>Idaho</td>\n",
       "      <td>35</td>\n",
       "      <td>1/1/2017</td>\n",
       "      <td>2</td>\n",
       "      <td>married</td>\n",
       "      <td>99568</td>\n",
       "    </tr>\n",
       "    <tr>\n",
       "      <th>3</th>\n",
       "      <td>125935</td>\n",
       "      <td>Michelle</td>\n",
       "      <td>Hicks</td>\n",
       "      <td>Female</td>\n",
       "      <td>Iowa</td>\n",
       "      <td>40</td>\n",
       "      <td>1/1/2017</td>\n",
       "      <td>0</td>\n",
       "      <td>single</td>\n",
       "      <td>42049</td>\n",
       "    </tr>\n",
       "    <tr>\n",
       "      <th>4</th>\n",
       "      <td>130797</td>\n",
       "      <td>Ann</td>\n",
       "      <td>Gilmore</td>\n",
       "      <td>Female</td>\n",
       "      <td>Maryland</td>\n",
       "      <td>26</td>\n",
       "      <td>1/1/2017</td>\n",
       "      <td>1</td>\n",
       "      <td>married</td>\n",
       "      <td>40374</td>\n",
       "    </tr>\n",
       "    <tr>\n",
       "      <th>5</th>\n",
       "      <td>133128</td>\n",
       "      <td>Cynthia</td>\n",
       "      <td>Noble</td>\n",
       "      <td>Female</td>\n",
       "      <td>Kentucky</td>\n",
       "      <td>43</td>\n",
       "      <td>1/1/2017</td>\n",
       "      <td>2</td>\n",
       "      <td>married</td>\n",
       "      <td>49643</td>\n",
       "    </tr>\n",
       "    <tr>\n",
       "      <th>6</th>\n",
       "      <td>152052</td>\n",
       "      <td>Chris</td>\n",
       "      <td>Walton</td>\n",
       "      <td>Male</td>\n",
       "      <td>Montana</td>\n",
       "      <td>20</td>\n",
       "      <td>1/1/2017</td>\n",
       "      <td>0</td>\n",
       "      <td>single</td>\n",
       "      <td>61746</td>\n",
       "    </tr>\n",
       "    <tr>\n",
       "      <th>7</th>\n",
       "      <td>168851</td>\n",
       "      <td>Joseph</td>\n",
       "      <td>Hickman</td>\n",
       "      <td>Male</td>\n",
       "      <td>South Carolina</td>\n",
       "      <td>30</td>\n",
       "      <td>1/1/2017</td>\n",
       "      <td>0</td>\n",
       "      <td>single</td>\n",
       "      <td>63712</td>\n",
       "    </tr>\n",
       "    <tr>\n",
       "      <th>8</th>\n",
       "      <td>69965</td>\n",
       "      <td>Jeremy</td>\n",
       "      <td>Vang</td>\n",
       "      <td>Male</td>\n",
       "      <td>Texas</td>\n",
       "      <td>47</td>\n",
       "      <td>1/1/2017</td>\n",
       "      <td>1</td>\n",
       "      <td>married</td>\n",
       "      <td>162432</td>\n",
       "    </tr>\n",
       "    <tr>\n",
       "      <th>9</th>\n",
       "      <td>82820</td>\n",
       "      <td>Shawn</td>\n",
       "      <td>Chung</td>\n",
       "      <td>Male</td>\n",
       "      <td>Virginia</td>\n",
       "      <td>26</td>\n",
       "      <td>1/1/2017</td>\n",
       "      <td>2</td>\n",
       "      <td>married</td>\n",
       "      <td>32072</td>\n",
       "    </tr>\n",
       "  </tbody>\n",
       "</table>\n",
       "</div>"
      ],
      "text/plain": [
       "   user_id First Name    Surnam  Gender           STATE  Age date_joined  \\\n",
       "0    26711    Deborah  Esquivel  Female        Missouri   48    1/1/2017   \n",
       "1    33890   Patricia      Hart  Female      New Mexico   36    1/1/2017   \n",
       "2    65803    Kenneth    Farley    Male           Idaho   35    1/1/2017   \n",
       "3   125935   Michelle     Hicks  Female            Iowa   40    1/1/2017   \n",
       "4   130797        Ann   Gilmore  Female        Maryland   26    1/1/2017   \n",
       "5   133128    Cynthia     Noble  Female        Kentucky   43    1/1/2017   \n",
       "6   152052      Chris    Walton    Male         Montana   20    1/1/2017   \n",
       "7   168851     Joseph   Hickman    Male  South Carolina   30    1/1/2017   \n",
       "8    69965     Jeremy      Vang    Male           Texas   47    1/1/2017   \n",
       "9    82820      Shawn     Chung    Male        Virginia   26    1/1/2017   \n",
       "\n",
       "   n_dependants fam_status  income  \n",
       "0             3    married  165665  \n",
       "1             0     single   59285  \n",
       "2             2    married   99568  \n",
       "3             0     single   42049  \n",
       "4             1    married   40374  \n",
       "5             2    married   49643  \n",
       "6             0     single   61746  \n",
       "7             0     single   63712  \n",
       "8             1    married  162432  \n",
       "9             2    married   32072  "
      ]
     },
     "execution_count": 31,
     "metadata": {},
     "output_type": "execute_result"
    }
   ],
   "source": [
    "c_data.head(10)"
   ]
  },
  {
   "cell_type": "markdown",
   "id": "d7ccf7ba-6baf-4094-84e1-f200087b7409",
   "metadata": {},
   "source": [
    "## 04. Wrangle data"
   ]
  },
  {
   "cell_type": "code",
   "execution_count": 15,
   "id": "6049d85f-3da9-4add-99e9-6e807e252ab0",
   "metadata": {},
   "outputs": [],
   "source": [
    "# Create conistent column names "
   ]
  },
  {
   "cell_type": "code",
   "execution_count": 33,
   "id": "9420c01d-a781-4412-8ef3-dc191aa8a5d0",
   "metadata": {},
   "outputs": [
    {
     "data": {
      "text/plain": [
       "Index(['user_id', 'first_name', 'surname', 'gender', 'state', 'age',\n",
       "       'date_joined', 'number_dependents', 'family_status', 'income'],\n",
       "      dtype='object')"
      ]
     },
     "execution_count": 33,
     "metadata": {},
     "output_type": "execute_result"
    }
   ],
   "source": [
    "c_data.rename(columns = {'First Name' : 'first_name', 'Surnam' : 'surname', 'Gender': 'gender', 'STATE':'state', 'Age':'age', 'n_dependants': 'number_dependents', 'fam_status': 'family_status' }, inplace=True)\n",
    "c_data.columns"
   ]
  },
  {
   "cell_type": "code",
   "execution_count": 19,
   "id": "dd50c4ad-5b3c-400f-99d2-3ed5a5424d0b",
   "metadata": {},
   "outputs": [],
   "source": [
    "# Create a data subset for users by region"
   ]
  },
  {
   "cell_type": "code",
   "execution_count": 35,
   "id": "0f21c517-dbe5-4846-8b25-49fbfc41e96b",
   "metadata": {},
   "outputs": [
    {
     "data": {
      "text/html": [
       "<div>\n",
       "<style scoped>\n",
       "    .dataframe tbody tr th:only-of-type {\n",
       "        vertical-align: middle;\n",
       "    }\n",
       "\n",
       "    .dataframe tbody tr th {\n",
       "        vertical-align: top;\n",
       "    }\n",
       "\n",
       "    .dataframe thead th {\n",
       "        text-align: right;\n",
       "    }\n",
       "</style>\n",
       "<table border=\"1\" class=\"dataframe\">\n",
       "  <thead>\n",
       "    <tr style=\"text-align: right;\">\n",
       "      <th></th>\n",
       "      <th>user_id</th>\n",
       "      <th>first_name</th>\n",
       "      <th>surname</th>\n",
       "      <th>gender</th>\n",
       "      <th>state</th>\n",
       "      <th>age</th>\n",
       "      <th>date_joined</th>\n",
       "      <th>number_dependents</th>\n",
       "      <th>family_status</th>\n",
       "      <th>income</th>\n",
       "    </tr>\n",
       "  </thead>\n",
       "  <tbody>\n",
       "    <tr>\n",
       "      <th>1</th>\n",
       "      <td>33890</td>\n",
       "      <td>Patricia</td>\n",
       "      <td>Hart</td>\n",
       "      <td>Female</td>\n",
       "      <td>New Mexico</td>\n",
       "      <td>36</td>\n",
       "      <td>1/1/2017</td>\n",
       "      <td>0</td>\n",
       "      <td>single</td>\n",
       "      <td>59285</td>\n",
       "    </tr>\n",
       "    <tr>\n",
       "      <th>10</th>\n",
       "      <td>26441</td>\n",
       "      <td>Gloria</td>\n",
       "      <td>Stafford</td>\n",
       "      <td>Female</td>\n",
       "      <td>Nevada</td>\n",
       "      <td>19</td>\n",
       "      <td>1/1/2017</td>\n",
       "      <td>2</td>\n",
       "      <td>living with parents and siblings</td>\n",
       "      <td>43443</td>\n",
       "    </tr>\n",
       "    <tr>\n",
       "      <th>14</th>\n",
       "      <td>516</td>\n",
       "      <td>Peter</td>\n",
       "      <td>Hunt</td>\n",
       "      <td>Male</td>\n",
       "      <td>Colorado</td>\n",
       "      <td>51</td>\n",
       "      <td>1/1/2017</td>\n",
       "      <td>2</td>\n",
       "      <td>married</td>\n",
       "      <td>146559</td>\n",
       "    </tr>\n",
       "    <tr>\n",
       "      <th>32</th>\n",
       "      <td>112664</td>\n",
       "      <td>Nicholas</td>\n",
       "      <td>Logan</td>\n",
       "      <td>Male</td>\n",
       "      <td>California</td>\n",
       "      <td>64</td>\n",
       "      <td>1/1/2017</td>\n",
       "      <td>3</td>\n",
       "      <td>married</td>\n",
       "      <td>111354</td>\n",
       "    </tr>\n",
       "    <tr>\n",
       "      <th>37</th>\n",
       "      <td>139692</td>\n",
       "      <td>Barbara</td>\n",
       "      <td>Chang</td>\n",
       "      <td>Female</td>\n",
       "      <td>Arizona</td>\n",
       "      <td>54</td>\n",
       "      <td>1/1/2017</td>\n",
       "      <td>3</td>\n",
       "      <td>married</td>\n",
       "      <td>113960</td>\n",
       "    </tr>\n",
       "    <tr>\n",
       "      <th>51</th>\n",
       "      <td>19658</td>\n",
       "      <td>Sara</td>\n",
       "      <td>Diaz</td>\n",
       "      <td>Female</td>\n",
       "      <td>Nevada</td>\n",
       "      <td>50</td>\n",
       "      <td>1/1/2017</td>\n",
       "      <td>1</td>\n",
       "      <td>married</td>\n",
       "      <td>143086</td>\n",
       "    </tr>\n",
       "    <tr>\n",
       "      <th>52</th>\n",
       "      <td>69366</td>\n",
       "      <td>Carlos</td>\n",
       "      <td>Eaton</td>\n",
       "      <td>Male</td>\n",
       "      <td>Colorado</td>\n",
       "      <td>30</td>\n",
       "      <td>1/1/2017</td>\n",
       "      <td>2</td>\n",
       "      <td>married</td>\n",
       "      <td>99478</td>\n",
       "    </tr>\n",
       "    <tr>\n",
       "      <th>53</th>\n",
       "      <td>76659</td>\n",
       "      <td>NaN</td>\n",
       "      <td>Gilbert</td>\n",
       "      <td>Male</td>\n",
       "      <td>Colorado</td>\n",
       "      <td>26</td>\n",
       "      <td>1/1/2017</td>\n",
       "      <td>2</td>\n",
       "      <td>married</td>\n",
       "      <td>41709</td>\n",
       "    </tr>\n",
       "    <tr>\n",
       "      <th>55</th>\n",
       "      <td>54950</td>\n",
       "      <td>Steve</td>\n",
       "      <td>Tanner</td>\n",
       "      <td>Male</td>\n",
       "      <td>Nevada</td>\n",
       "      <td>66</td>\n",
       "      <td>1/1/2017</td>\n",
       "      <td>0</td>\n",
       "      <td>divorced/widowed</td>\n",
       "      <td>138170</td>\n",
       "    </tr>\n",
       "    <tr>\n",
       "      <th>61</th>\n",
       "      <td>153147</td>\n",
       "      <td>Frank</td>\n",
       "      <td>Howell</td>\n",
       "      <td>Male</td>\n",
       "      <td>Utah</td>\n",
       "      <td>48</td>\n",
       "      <td>1/1/2017</td>\n",
       "      <td>1</td>\n",
       "      <td>married</td>\n",
       "      <td>128416</td>\n",
       "    </tr>\n",
       "  </tbody>\n",
       "</table>\n",
       "</div>"
      ],
      "text/plain": [
       "    user_id first_name   surname  gender       state  age date_joined  \\\n",
       "1     33890   Patricia      Hart  Female  New Mexico   36    1/1/2017   \n",
       "10    26441     Gloria  Stafford  Female      Nevada   19    1/1/2017   \n",
       "14      516      Peter      Hunt    Male    Colorado   51    1/1/2017   \n",
       "32   112664   Nicholas     Logan    Male  California   64    1/1/2017   \n",
       "37   139692    Barbara     Chang  Female     Arizona   54    1/1/2017   \n",
       "51    19658       Sara      Diaz  Female      Nevada   50    1/1/2017   \n",
       "52    69366     Carlos     Eaton    Male    Colorado   30    1/1/2017   \n",
       "53    76659        NaN   Gilbert    Male    Colorado   26    1/1/2017   \n",
       "55    54950      Steve    Tanner    Male      Nevada   66    1/1/2017   \n",
       "61   153147      Frank    Howell    Male        Utah   48    1/1/2017   \n",
       "\n",
       "    number_dependents                     family_status  income  \n",
       "1                   0                            single   59285  \n",
       "10                  2  living with parents and siblings   43443  \n",
       "14                  2                           married  146559  \n",
       "32                  3                           married  111354  \n",
       "37                  3                           married  113960  \n",
       "51                  1                           married  143086  \n",
       "52                  2                           married   99478  \n",
       "53                  2                           married   41709  \n",
       "55                  0                  divorced/widowed  138170  \n",
       "61                  1                           married  128416  "
      ]
     },
     "execution_count": 35,
     "metadata": {},
     "output_type": "execute_result"
    }
   ],
   "source": [
    "c_data_sw = c_data[c_data['state'].isin(['California', 'Arizona', 'Nevada', 'New Mexico', 'Colorado', 'Utah'])]\n",
    "c_data_sw.head(10)"
   ]
  },
  {
   "cell_type": "code",
   "execution_count": 37,
   "id": "154b0434-bcc1-4caf-a741-6296c7038bb4",
   "metadata": {},
   "outputs": [
    {
     "data": {
      "text/plain": [
       "(24261, 10)"
      ]
     },
     "execution_count": 37,
     "metadata": {},
     "output_type": "execute_result"
    }
   ],
   "source": [
    "c_data_sw.shape"
   ]
  },
  {
   "cell_type": "markdown",
   "id": "ef943a13-7821-49fa-a85a-9b2b9d0898ef",
   "metadata": {},
   "source": [
    "## 05. Data consistency checks"
   ]
  },
  {
   "cell_type": "code",
   "execution_count": 39,
   "id": "43b473c7-3b79-4855-b31d-6ebf03676d31",
   "metadata": {},
   "outputs": [
    {
     "data": {
      "text/plain": [
       "user_id                  0\n",
       "first_name           11259\n",
       "surname                  0\n",
       "gender                   0\n",
       "state                    0\n",
       "age                      0\n",
       "date_joined              0\n",
       "number_dependents        0\n",
       "family_status            0\n",
       "income                   0\n",
       "dtype: int64"
      ]
     },
     "execution_count": 39,
     "metadata": {},
     "output_type": "execute_result"
    }
   ],
   "source": [
    "c_data.isnull().sum()"
   ]
  },
  {
   "cell_type": "code",
   "execution_count": 53,
   "id": "7ca6f117-be70-417a-a304-9639853c6e24",
   "metadata": {},
   "outputs": [],
   "source": [
    "rows_with_nulls = c_data[c_data.isnull().any(axis=1)]"
   ]
  },
  {
   "cell_type": "code",
   "execution_count": 55,
   "id": "f14714aa-3baa-4dff-b863-949e89b08b3f",
   "metadata": {},
   "outputs": [
    {
     "data": {
      "text/html": [
       "<div>\n",
       "<style scoped>\n",
       "    .dataframe tbody tr th:only-of-type {\n",
       "        vertical-align: middle;\n",
       "    }\n",
       "\n",
       "    .dataframe tbody tr th {\n",
       "        vertical-align: top;\n",
       "    }\n",
       "\n",
       "    .dataframe thead th {\n",
       "        text-align: right;\n",
       "    }\n",
       "</style>\n",
       "<table border=\"1\" class=\"dataframe\">\n",
       "  <thead>\n",
       "    <tr style=\"text-align: right;\">\n",
       "      <th></th>\n",
       "      <th>user_id</th>\n",
       "      <th>first_name</th>\n",
       "      <th>surname</th>\n",
       "      <th>gender</th>\n",
       "      <th>state</th>\n",
       "      <th>age</th>\n",
       "      <th>date_joined</th>\n",
       "      <th>number_dependents</th>\n",
       "      <th>family_status</th>\n",
       "      <th>income</th>\n",
       "    </tr>\n",
       "  </thead>\n",
       "  <tbody>\n",
       "    <tr>\n",
       "      <th>53</th>\n",
       "      <td>76659</td>\n",
       "      <td>NaN</td>\n",
       "      <td>Gilbert</td>\n",
       "      <td>Male</td>\n",
       "      <td>Colorado</td>\n",
       "      <td>26</td>\n",
       "      <td>1/1/2017</td>\n",
       "      <td>2</td>\n",
       "      <td>married</td>\n",
       "      <td>41709</td>\n",
       "    </tr>\n",
       "    <tr>\n",
       "      <th>73</th>\n",
       "      <td>13738</td>\n",
       "      <td>NaN</td>\n",
       "      <td>Frost</td>\n",
       "      <td>Female</td>\n",
       "      <td>Louisiana</td>\n",
       "      <td>39</td>\n",
       "      <td>1/1/2017</td>\n",
       "      <td>0</td>\n",
       "      <td>single</td>\n",
       "      <td>82518</td>\n",
       "    </tr>\n",
       "    <tr>\n",
       "      <th>82</th>\n",
       "      <td>89996</td>\n",
       "      <td>NaN</td>\n",
       "      <td>Dawson</td>\n",
       "      <td>Female</td>\n",
       "      <td>Oregon</td>\n",
       "      <td>52</td>\n",
       "      <td>1/1/2017</td>\n",
       "      <td>3</td>\n",
       "      <td>married</td>\n",
       "      <td>117099</td>\n",
       "    </tr>\n",
       "    <tr>\n",
       "      <th>99</th>\n",
       "      <td>96166</td>\n",
       "      <td>NaN</td>\n",
       "      <td>Oconnor</td>\n",
       "      <td>Male</td>\n",
       "      <td>Oklahoma</td>\n",
       "      <td>51</td>\n",
       "      <td>1/1/2017</td>\n",
       "      <td>1</td>\n",
       "      <td>married</td>\n",
       "      <td>155673</td>\n",
       "    </tr>\n",
       "    <tr>\n",
       "      <th>105</th>\n",
       "      <td>29778</td>\n",
       "      <td>NaN</td>\n",
       "      <td>Dawson</td>\n",
       "      <td>Female</td>\n",
       "      <td>Utah</td>\n",
       "      <td>63</td>\n",
       "      <td>1/1/2017</td>\n",
       "      <td>3</td>\n",
       "      <td>married</td>\n",
       "      <td>151819</td>\n",
       "    </tr>\n",
       "    <tr>\n",
       "      <th>128</th>\n",
       "      <td>8562</td>\n",
       "      <td>NaN</td>\n",
       "      <td>Oconnor</td>\n",
       "      <td>Male</td>\n",
       "      <td>Utah</td>\n",
       "      <td>46</td>\n",
       "      <td>1/1/2017</td>\n",
       "      <td>1</td>\n",
       "      <td>married</td>\n",
       "      <td>134898</td>\n",
       "    </tr>\n",
       "    <tr>\n",
       "      <th>140</th>\n",
       "      <td>149267</td>\n",
       "      <td>NaN</td>\n",
       "      <td>Hutchinson</td>\n",
       "      <td>Male</td>\n",
       "      <td>South Carolina</td>\n",
       "      <td>20</td>\n",
       "      <td>1/1/2017</td>\n",
       "      <td>0</td>\n",
       "      <td>single</td>\n",
       "      <td>86778</td>\n",
       "    </tr>\n",
       "    <tr>\n",
       "      <th>149</th>\n",
       "      <td>82632</td>\n",
       "      <td>NaN</td>\n",
       "      <td>Orr</td>\n",
       "      <td>Male</td>\n",
       "      <td>Hawaii</td>\n",
       "      <td>61</td>\n",
       "      <td>1/1/2017</td>\n",
       "      <td>1</td>\n",
       "      <td>married</td>\n",
       "      <td>118130</td>\n",
       "    </tr>\n",
       "    <tr>\n",
       "      <th>155</th>\n",
       "      <td>172331</td>\n",
       "      <td>NaN</td>\n",
       "      <td>Williamson</td>\n",
       "      <td>Female</td>\n",
       "      <td>Alaska</td>\n",
       "      <td>27</td>\n",
       "      <td>1/1/2017</td>\n",
       "      <td>0</td>\n",
       "      <td>single</td>\n",
       "      <td>55047</td>\n",
       "    </tr>\n",
       "    <tr>\n",
       "      <th>236</th>\n",
       "      <td>182963</td>\n",
       "      <td>NaN</td>\n",
       "      <td>Nicholson</td>\n",
       "      <td>Female</td>\n",
       "      <td>New Mexico</td>\n",
       "      <td>58</td>\n",
       "      <td>1/2/2017</td>\n",
       "      <td>1</td>\n",
       "      <td>married</td>\n",
       "      <td>163391</td>\n",
       "    </tr>\n",
       "  </tbody>\n",
       "</table>\n",
       "</div>"
      ],
      "text/plain": [
       "     user_id first_name     surname  gender           state  age date_joined  \\\n",
       "53     76659        NaN     Gilbert    Male        Colorado   26    1/1/2017   \n",
       "73     13738        NaN       Frost  Female       Louisiana   39    1/1/2017   \n",
       "82     89996        NaN      Dawson  Female          Oregon   52    1/1/2017   \n",
       "99     96166        NaN     Oconnor    Male        Oklahoma   51    1/1/2017   \n",
       "105    29778        NaN      Dawson  Female            Utah   63    1/1/2017   \n",
       "128     8562        NaN     Oconnor    Male            Utah   46    1/1/2017   \n",
       "140   149267        NaN  Hutchinson    Male  South Carolina   20    1/1/2017   \n",
       "149    82632        NaN         Orr    Male          Hawaii   61    1/1/2017   \n",
       "155   172331        NaN  Williamson  Female          Alaska   27    1/1/2017   \n",
       "236   182963        NaN   Nicholson  Female      New Mexico   58    1/2/2017   \n",
       "\n",
       "     number_dependents family_status  income  \n",
       "53                   2       married   41709  \n",
       "73                   0        single   82518  \n",
       "82                   3       married  117099  \n",
       "99                   1       married  155673  \n",
       "105                  3       married  151819  \n",
       "128                  1       married  134898  \n",
       "140                  0        single   86778  \n",
       "149                  1       married  118130  \n",
       "155                  0        single   55047  \n",
       "236                  1       married  163391  "
      ]
     },
     "execution_count": 55,
     "metadata": {},
     "output_type": "execute_result"
    }
   ],
   "source": [
    "rows_with_nulls.head(10)"
   ]
  },
  {
   "cell_type": "code",
   "execution_count": 58,
   "id": "edd336cf-f4e2-484b-838c-f3cea17d3e83",
   "metadata": {},
   "outputs": [],
   "source": [
    "# Look at data types of dataset"
   ]
  },
  {
   "cell_type": "code",
   "execution_count": 59,
   "id": "91ad885e-2001-48cd-a4c3-10d75d48199e",
   "metadata": {},
   "outputs": [
    {
     "data": {
      "text/plain": [
       "user_id               int64\n",
       "first_name           object\n",
       "surname              object\n",
       "gender               object\n",
       "state                object\n",
       "age                   int64\n",
       "date_joined          object\n",
       "number_dependents     int64\n",
       "family_status        object\n",
       "income                int64\n",
       "dtype: object"
      ]
     },
     "execution_count": 59,
     "metadata": {},
     "output_type": "execute_result"
    }
   ],
   "source": [
    "c_data.dtypes"
   ]
  },
  {
   "cell_type": "code",
   "execution_count": 60,
   "id": "916a1c44-89a8-4bf3-bce1-bfe5304e242d",
   "metadata": {},
   "outputs": [],
   "source": [
    "# Change user ID from int value to string since it's categorical"
   ]
  },
  {
   "cell_type": "code",
   "execution_count": 61,
   "id": "031be14c-b3c4-449e-9135-676bb87d976f",
   "metadata": {},
   "outputs": [],
   "source": [
    "c_data['user_id'] = c_data['user_id'].astype('str')"
   ]
  },
  {
   "cell_type": "code",
   "execution_count": 62,
   "id": "a307b290-d46c-46d8-bffc-a1d10b43e79f",
   "metadata": {},
   "outputs": [],
   "source": [
    "# Check for mixed data types in columns"
   ]
  },
  {
   "cell_type": "code",
   "execution_count": 63,
   "id": "4f03ad30-70d2-4599-bf57-cf465660aec1",
   "metadata": {},
   "outputs": [
    {
     "name": "stderr",
     "output_type": "stream",
     "text": [
      "C:\\Users\\Zachu\\AppData\\Local\\Temp\\ipykernel_9596\\1851826724.py:2: FutureWarning: DataFrame.applymap has been deprecated. Use DataFrame.map instead.\n",
      "  weird = (c_data[[col]].applymap(type) != c_data[[col]].iloc[0].apply(type)).any(axis=1)\n",
      "C:\\Users\\Zachu\\AppData\\Local\\Temp\\ipykernel_9596\\1851826724.py:2: FutureWarning: DataFrame.applymap has been deprecated. Use DataFrame.map instead.\n",
      "  weird = (c_data[[col]].applymap(type) != c_data[[col]].iloc[0].apply(type)).any(axis=1)\n",
      "C:\\Users\\Zachu\\AppData\\Local\\Temp\\ipykernel_9596\\1851826724.py:2: FutureWarning: DataFrame.applymap has been deprecated. Use DataFrame.map instead.\n",
      "  weird = (c_data[[col]].applymap(type) != c_data[[col]].iloc[0].apply(type)).any(axis=1)\n",
      "C:\\Users\\Zachu\\AppData\\Local\\Temp\\ipykernel_9596\\1851826724.py:2: FutureWarning: DataFrame.applymap has been deprecated. Use DataFrame.map instead.\n",
      "  weird = (c_data[[col]].applymap(type) != c_data[[col]].iloc[0].apply(type)).any(axis=1)\n",
      "C:\\Users\\Zachu\\AppData\\Local\\Temp\\ipykernel_9596\\1851826724.py:2: FutureWarning: DataFrame.applymap has been deprecated. Use DataFrame.map instead.\n",
      "  weird = (c_data[[col]].applymap(type) != c_data[[col]].iloc[0].apply(type)).any(axis=1)\n",
      "C:\\Users\\Zachu\\AppData\\Local\\Temp\\ipykernel_9596\\1851826724.py:2: FutureWarning: DataFrame.applymap has been deprecated. Use DataFrame.map instead.\n",
      "  weird = (c_data[[col]].applymap(type) != c_data[[col]].iloc[0].apply(type)).any(axis=1)\n",
      "C:\\Users\\Zachu\\AppData\\Local\\Temp\\ipykernel_9596\\1851826724.py:2: FutureWarning: DataFrame.applymap has been deprecated. Use DataFrame.map instead.\n",
      "  weird = (c_data[[col]].applymap(type) != c_data[[col]].iloc[0].apply(type)).any(axis=1)\n"
     ]
    },
    {
     "name": "stdout",
     "output_type": "stream",
     "text": [
      "first_name\n"
     ]
    },
    {
     "name": "stderr",
     "output_type": "stream",
     "text": [
      "C:\\Users\\Zachu\\AppData\\Local\\Temp\\ipykernel_9596\\1851826724.py:2: FutureWarning: DataFrame.applymap has been deprecated. Use DataFrame.map instead.\n",
      "  weird = (c_data[[col]].applymap(type) != c_data[[col]].iloc[0].apply(type)).any(axis=1)\n",
      "C:\\Users\\Zachu\\AppData\\Local\\Temp\\ipykernel_9596\\1851826724.py:2: FutureWarning: DataFrame.applymap has been deprecated. Use DataFrame.map instead.\n",
      "  weird = (c_data[[col]].applymap(type) != c_data[[col]].iloc[0].apply(type)).any(axis=1)\n",
      "C:\\Users\\Zachu\\AppData\\Local\\Temp\\ipykernel_9596\\1851826724.py:2: FutureWarning: DataFrame.applymap has been deprecated. Use DataFrame.map instead.\n",
      "  weird = (c_data[[col]].applymap(type) != c_data[[col]].iloc[0].apply(type)).any(axis=1)\n"
     ]
    }
   ],
   "source": [
    "for col in c_data.columns.tolist():\n",
    "    weird = (c_data[[col]].applymap(type) != c_data[[col]].iloc[0].apply(type)).any(axis=1)\n",
    "    if len(c_data[weird]) > 0:\n",
    "        print(col)\n",
    "    "
   ]
  },
  {
   "cell_type": "code",
   "execution_count": 64,
   "id": "96e856e8-69c7-4b4f-822a-40ece085e51d",
   "metadata": {},
   "outputs": [],
   "source": [
    "# Convert 'first_name'column to string value"
   ]
  },
  {
   "cell_type": "code",
   "execution_count": 65,
   "id": "3dd0e5a8-40ea-40f2-912a-e7f3a39148a5",
   "metadata": {},
   "outputs": [],
   "source": [
    "c_data['first_name'] = c_data['first_name'].astype('str')"
   ]
  },
  {
   "cell_type": "code",
   "execution_count": 66,
   "id": "0c63fd74-080a-4ad8-bc6e-0f33b325c8bd",
   "metadata": {},
   "outputs": [
    {
     "data": {
      "text/plain": [
       "user_id              object\n",
       "first_name           object\n",
       "surname              object\n",
       "gender               object\n",
       "state                object\n",
       "age                   int64\n",
       "date_joined          object\n",
       "number_dependents     int64\n",
       "family_status        object\n",
       "income                int64\n",
       "dtype: object"
      ]
     },
     "execution_count": 66,
     "metadata": {},
     "output_type": "execute_result"
    }
   ],
   "source": [
    "c_data.dtypes"
   ]
  },
  {
   "cell_type": "code",
   "execution_count": 69,
   "id": "c33ab51e-c523-4356-b916-23c8edc1bd79",
   "metadata": {},
   "outputs": [],
   "source": [
    "# Find missing and duplicate values"
   ]
  },
  {
   "cell_type": "code",
   "execution_count": 70,
   "id": "9367da0c-54dd-4776-8b70-3b4992abf9aa",
   "metadata": {},
   "outputs": [
    {
     "data": {
      "text/plain": [
       "user_id              0\n",
       "first_name           0\n",
       "surname              0\n",
       "gender               0\n",
       "state                0\n",
       "age                  0\n",
       "date_joined          0\n",
       "number_dependents    0\n",
       "family_status        0\n",
       "income               0\n",
       "dtype: int64"
      ]
     },
     "execution_count": 70,
     "metadata": {},
     "output_type": "execute_result"
    }
   ],
   "source": [
    "c_data.isnull().sum()"
   ]
  },
  {
   "cell_type": "code",
   "execution_count": 71,
   "id": "f7abacfc-deb7-465f-8755-4da5a014a8f9",
   "metadata": {},
   "outputs": [
    {
     "data": {
      "text/plain": [
       "0"
      ]
     },
     "execution_count": 71,
     "metadata": {},
     "output_type": "execute_result"
    }
   ],
   "source": [
    "c_data.duplicated().sum()"
   ]
  },
  {
   "cell_type": "code",
   "execution_count": 72,
   "id": "c05de189-9626-4de0-a696-5953fd6dde34",
   "metadata": {},
   "outputs": [
    {
     "data": {
      "text/html": [
       "<div>\n",
       "<style scoped>\n",
       "    .dataframe tbody tr th:only-of-type {\n",
       "        vertical-align: middle;\n",
       "    }\n",
       "\n",
       "    .dataframe tbody tr th {\n",
       "        vertical-align: top;\n",
       "    }\n",
       "\n",
       "    .dataframe thead th {\n",
       "        text-align: right;\n",
       "    }\n",
       "</style>\n",
       "<table border=\"1\" class=\"dataframe\">\n",
       "  <thead>\n",
       "    <tr style=\"text-align: right;\">\n",
       "      <th></th>\n",
       "      <th>user_id</th>\n",
       "      <th>first_name</th>\n",
       "      <th>surname</th>\n",
       "      <th>gender</th>\n",
       "      <th>state</th>\n",
       "      <th>age</th>\n",
       "      <th>date_joined</th>\n",
       "      <th>number_dependents</th>\n",
       "      <th>family_status</th>\n",
       "      <th>income</th>\n",
       "    </tr>\n",
       "  </thead>\n",
       "  <tbody>\n",
       "  </tbody>\n",
       "</table>\n",
       "</div>"
      ],
      "text/plain": [
       "Empty DataFrame\n",
       "Columns: [user_id, first_name, surname, gender, state, age, date_joined, number_dependents, family_status, income]\n",
       "Index: []"
      ]
     },
     "execution_count": 72,
     "metadata": {},
     "output_type": "execute_result"
    }
   ],
   "source": [
    "c_data_dups = c_data[c_data.duplicated()]\n",
    "c_data_dups.head(10)"
   ]
  },
  {
   "cell_type": "code",
   "execution_count": 73,
   "id": "d24c41d1-c7c6-438f-8c4d-3c920381dd32",
   "metadata": {},
   "outputs": [],
   "source": [
    "# No missing or duplicate values present "
   ]
  },
  {
   "cell_type": "code",
   "execution_count": 74,
   "id": "0e708bbf-0da5-4723-8226-442e1c138050",
   "metadata": {},
   "outputs": [],
   "source": [
    "# Create value counts for gender, family status and state and create descriptive stats for continuous variables"
   ]
  },
  {
   "cell_type": "code",
   "execution_count": 75,
   "id": "9c0a071a-16c7-4a2c-b98d-3974d8524a9b",
   "metadata": {},
   "outputs": [
    {
     "data": {
      "text/plain": [
       "gender\n",
       "Male      104067\n",
       "Female    102142\n",
       "Name: count, dtype: int64"
      ]
     },
     "execution_count": 75,
     "metadata": {},
     "output_type": "execute_result"
    }
   ],
   "source": [
    "c_data['gender'].value_counts(dropna=False)"
   ]
  },
  {
   "cell_type": "code",
   "execution_count": 76,
   "id": "f961b13f-1cef-49a5-b393-1ece2176d17d",
   "metadata": {},
   "outputs": [
    {
     "data": {
      "text/plain": [
       "family_status\n",
       "married                             144906\n",
       "single                               33962\n",
       "divorced/widowed                     17640\n",
       "living with parents and siblings      9701\n",
       "Name: count, dtype: int64"
      ]
     },
     "execution_count": 76,
     "metadata": {},
     "output_type": "execute_result"
    }
   ],
   "source": [
    "c_data['family_status'].value_counts(dropna=False)"
   ]
  },
  {
   "cell_type": "code",
   "execution_count": 77,
   "id": "a554e638-cd04-4bdc-bf68-a4b857bdcc42",
   "metadata": {},
   "outputs": [
    {
     "data": {
      "text/plain": [
       "state\n",
       "Florida                 4044\n",
       "Colorado                4044\n",
       "Illinois                4044\n",
       "Alabama                 4044\n",
       "District of Columbia    4044\n",
       "Hawaii                  4044\n",
       "Arizona                 4044\n",
       "Connecticut             4044\n",
       "California              4044\n",
       "Indiana                 4044\n",
       "Arkansas                4044\n",
       "Alaska                  4044\n",
       "Delaware                4044\n",
       "Iowa                    4044\n",
       "Idaho                   4044\n",
       "Georgia                 4044\n",
       "Wyoming                 4043\n",
       "Mississippi             4043\n",
       "Oklahoma                4043\n",
       "Utah                    4043\n",
       "New Hampshire           4043\n",
       "Kentucky                4043\n",
       "Maryland                4043\n",
       "Rhode Island            4043\n",
       "Massachusetts           4043\n",
       "Michigan                4043\n",
       "New Jersey              4043\n",
       "Kansas                  4043\n",
       "South Dakota            4043\n",
       "Minnesota               4043\n",
       "Tennessee               4043\n",
       "New York                4043\n",
       "Washington              4043\n",
       "Louisiana               4043\n",
       "Montana                 4043\n",
       "North Dakota            4043\n",
       "Wisconsin               4043\n",
       "Nebraska                4043\n",
       "Vermont                 4043\n",
       "Nevada                  4043\n",
       "Maine                   4043\n",
       "North Carolina          4043\n",
       "West Virginia           4043\n",
       "Virginia                4043\n",
       "Oregon                  4043\n",
       "New Mexico              4043\n",
       "Texas                   4043\n",
       "Pennsylvania            4043\n",
       "Ohio                    4043\n",
       "South Carolina          4043\n",
       "Missouri                4043\n",
       "Name: count, dtype: int64"
      ]
     },
     "execution_count": 77,
     "metadata": {},
     "output_type": "execute_result"
    }
   ],
   "source": [
    "c_data['state'].value_counts(dropna=False)"
   ]
  },
  {
   "cell_type": "code",
   "execution_count": 78,
   "id": "d2c53702-9c41-4344-bf1c-f8ccda019c5f",
   "metadata": {},
   "outputs": [
    {
     "data": {
      "text/html": [
       "<div>\n",
       "<style scoped>\n",
       "    .dataframe tbody tr th:only-of-type {\n",
       "        vertical-align: middle;\n",
       "    }\n",
       "\n",
       "    .dataframe tbody tr th {\n",
       "        vertical-align: top;\n",
       "    }\n",
       "\n",
       "    .dataframe thead th {\n",
       "        text-align: right;\n",
       "    }\n",
       "</style>\n",
       "<table border=\"1\" class=\"dataframe\">\n",
       "  <thead>\n",
       "    <tr style=\"text-align: right;\">\n",
       "      <th></th>\n",
       "      <th>age</th>\n",
       "      <th>number_dependents</th>\n",
       "      <th>income</th>\n",
       "    </tr>\n",
       "  </thead>\n",
       "  <tbody>\n",
       "    <tr>\n",
       "      <th>count</th>\n",
       "      <td>206209.000000</td>\n",
       "      <td>206209.000000</td>\n",
       "      <td>206209.000000</td>\n",
       "    </tr>\n",
       "    <tr>\n",
       "      <th>mean</th>\n",
       "      <td>49.501646</td>\n",
       "      <td>1.499823</td>\n",
       "      <td>94632.852548</td>\n",
       "    </tr>\n",
       "    <tr>\n",
       "      <th>std</th>\n",
       "      <td>18.480962</td>\n",
       "      <td>1.118433</td>\n",
       "      <td>42473.786988</td>\n",
       "    </tr>\n",
       "    <tr>\n",
       "      <th>min</th>\n",
       "      <td>18.000000</td>\n",
       "      <td>0.000000</td>\n",
       "      <td>25903.000000</td>\n",
       "    </tr>\n",
       "    <tr>\n",
       "      <th>25%</th>\n",
       "      <td>33.000000</td>\n",
       "      <td>0.000000</td>\n",
       "      <td>59874.000000</td>\n",
       "    </tr>\n",
       "    <tr>\n",
       "      <th>50%</th>\n",
       "      <td>49.000000</td>\n",
       "      <td>1.000000</td>\n",
       "      <td>93547.000000</td>\n",
       "    </tr>\n",
       "    <tr>\n",
       "      <th>75%</th>\n",
       "      <td>66.000000</td>\n",
       "      <td>3.000000</td>\n",
       "      <td>124244.000000</td>\n",
       "    </tr>\n",
       "    <tr>\n",
       "      <th>max</th>\n",
       "      <td>81.000000</td>\n",
       "      <td>3.000000</td>\n",
       "      <td>593901.000000</td>\n",
       "    </tr>\n",
       "  </tbody>\n",
       "</table>\n",
       "</div>"
      ],
      "text/plain": [
       "                 age  number_dependents         income\n",
       "count  206209.000000      206209.000000  206209.000000\n",
       "mean       49.501646           1.499823   94632.852548\n",
       "std        18.480962           1.118433   42473.786988\n",
       "min        18.000000           0.000000   25903.000000\n",
       "25%        33.000000           0.000000   59874.000000\n",
       "50%        49.000000           1.000000   93547.000000\n",
       "75%        66.000000           3.000000  124244.000000\n",
       "max        81.000000           3.000000  593901.000000"
      ]
     },
     "execution_count": 78,
     "metadata": {},
     "output_type": "execute_result"
    }
   ],
   "source": [
    "c_data.describe()"
   ]
  },
  {
   "cell_type": "code",
   "execution_count": 79,
   "id": "c0c38054-9e37-4cdf-bc68-c633faa9970f",
   "metadata": {},
   "outputs": [],
   "source": [
    "# No irregularities with categorical or number variables "
   ]
  },
  {
   "cell_type": "markdown",
   "id": "2c1b9e76-e7b2-4a3b-82bf-3d928f1ddc73",
   "metadata": {},
   "source": [
    "## 06. Combining dataframes"
   ]
  },
  {
   "cell_type": "code",
   "execution_count": 81,
   "id": "19b6d077-b3ea-47a1-aa37-afb6dfaa57a1",
   "metadata": {},
   "outputs": [],
   "source": [
    "# Importing dataframe"
   ]
  },
  {
   "cell_type": "code",
   "execution_count": 121,
   "id": "bf38463a-8c42-4c45-b0d1-c69e29ad4abf",
   "metadata": {},
   "outputs": [],
   "source": [
    "df = pd.read_pickle(os.path.join(path, 'Data', 'Prepared Data', 'orders_products_merged_aggregated_small.pkl'))"
   ]
  },
  {
   "cell_type": "code",
   "execution_count": 83,
   "id": "e2d1e990-e848-4500-8206-4a52c32c99bb",
   "metadata": {},
   "outputs": [],
   "source": [
    "# Combining dataframes"
   ]
  },
  {
   "cell_type": "code",
   "execution_count": 123,
   "id": "a9c9a757-f4cc-4b70-b11d-b48ed6c36fcd",
   "metadata": {},
   "outputs": [],
   "source": [
    "merged_df = pd.merge(df, c_data, on='user_id', how='inner')"
   ]
  },
  {
   "cell_type": "code",
   "execution_count": 125,
   "id": "fe286923-af80-417c-ab92-fa0369669e30",
   "metadata": {},
   "outputs": [],
   "source": [
    "merged_df.to_pickle(os.path.join(path, 'Data', 'Prepared Data', 'merged_c_data_small.pkl'))"
   ]
  }
 ],
 "metadata": {
  "kernelspec": {
   "display_name": "Python 3 (ipykernel)",
   "language": "python",
   "name": "python3"
  },
  "language_info": {
   "codemirror_mode": {
    "name": "ipython",
    "version": 3
   },
   "file_extension": ".py",
   "mimetype": "text/x-python",
   "name": "python",
   "nbconvert_exporter": "python",
   "pygments_lexer": "ipython3",
   "version": "3.12.3"
  }
 },
 "nbformat": 4,
 "nbformat_minor": 5
}
